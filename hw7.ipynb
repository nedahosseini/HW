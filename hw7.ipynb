{
  "nbformat": 4,
  "nbformat_minor": 0,
  "metadata": {
    "colab": {
      "provenance": [],
      "authorship_tag": "ABX9TyOk6zm9j9QXP4GSEfP6CqEx",
      "include_colab_link": true
    },
    "kernelspec": {
      "name": "python3",
      "display_name": "Python 3"
    },
    "language_info": {
      "name": "python"
    }
  },
  "cells": [
    {
      "cell_type": "markdown",
      "metadata": {
        "id": "view-in-github",
        "colab_type": "text"
      },
      "source": [
        "<a href=\"https://colab.research.google.com/github/nedahosseini/HW/blob/hw7/hw7.ipynb\" target=\"_parent\"><img src=\"https://colab.research.google.com/assets/colab-badge.svg\" alt=\"Open In Colab\"/></a>"
      ]
    },
    {
      "cell_type": "code",
      "execution_count": null,
      "metadata": {
        "id": "xUeYFLRf7WJ-"
      },
      "outputs": [],
      "source": [
        "#1\n",
        "\n",
        "class BTnode:\n",
        "\n",
        "  def __init__(self, data, left = None, right = None):\n",
        "    self.data = data\n",
        "    self.right = right\n",
        "    self.left = left\n",
        "\n",
        "n = BTnode(1,BTnode(2),BTnode(3,None,BTnode(4)))\n",
        "\n",
        "\n",
        "class BTree:\n",
        "\n",
        "  def __init__(self, root = None):\n",
        "    self.root = root\n",
        "\n",
        "  # LNR order\n",
        "  def inorder(self, root):\n",
        "    if root == None :\n",
        "      return\n",
        "    else:\n",
        "      self.inorder(root.left)\n",
        "      print(root.data)\n",
        "      self.inorder(root.right)\n",
        "\n",
        "tree = BTnode(1,BTnode(2,BTnode(4),BTnode(5)),BTnode(3))\n",
        "\n",
        "tree1 = BTree()\n",
        "tree1.inorder(tree)"
      ]
    }
  ]
}