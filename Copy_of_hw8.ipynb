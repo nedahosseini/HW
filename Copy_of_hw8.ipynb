{
  "nbformat": 4,
  "nbformat_minor": 0,
  "metadata": {
    "colab": {
      "provenance": [],
      "authorship_tag": "ABX9TyNQBcX0BOK/gfVa0XQjDyF1",
      "include_colab_link": true
    },
    "kernelspec": {
      "name": "python3",
      "display_name": "Python 3"
    },
    "language_info": {
      "name": "python"
    }
  },
  "cells": [
    {
      "cell_type": "markdown",
      "metadata": {
        "id": "view-in-github",
        "colab_type": "text"
      },
      "source": [
        "<a href=\"https://colab.research.google.com/github/nedahosseini/HW/blob/hw7/Copy_of_hw8.ipynb\" target=\"_parent\"><img src=\"https://colab.research.google.com/assets/colab-badge.svg\" alt=\"Open In Colab\"/></a>"
      ]
    },
    {
      "cell_type": "code",
      "execution_count": null,
      "metadata": {
        "id": "q2_fYAKAg0OH"
      },
      "outputs": [],
      "source": [
        "class Graph:\n",
        "\n",
        "  def __init__(self, n=3):\n",
        "    self.size = n\n",
        "    self. M = []\n",
        "    for _ in range(n):\n",
        "      self.M.append([0 for i in range(n)])\n",
        "\n",
        "  def add_edge(self, v1, v2):\n",
        "    self.M[v1][v2] = 1\n",
        "    self.M[v2][v1] = 1\n",
        "\n",
        "  def display(self):\n",
        "    for i in range(self.size):\n",
        "      for j in range(self.size):\n",
        "        print(self.M[i][j], end = '  ')\n",
        "      print()\n",
        "\n",
        "g = Graph(4)\n",
        "g.add_edge(0,1)\n",
        "g.add_edge(0,2)\n",
        "g.add_edge(1,2)\n",
        "g.add_edge(2,3)\n",
        "g.display()\n",
        "\n",
        "\n"
      ]
    },
    {
      "cell_type": "code",
      "source": [
        "class NodeHT:\n",
        "\n",
        "  def __init__(self, data):\n",
        "    self.data = data\n",
        "    self.left = None\n",
        "    self.right = None\n",
        "\n",
        "class Htree:\n",
        "\n",
        "  def __init__(self, root=None):\n",
        "    self.root = root\n",
        "\n",
        "  def heapify (self,A,K):                          # (K) و ایندکس نود موردنظر (A) آرایه از دیتاهای درخت هیپ\n",
        "    left = (2*K) + 1                               # یافتن ایندکس فرزند سمت چپ نود\n",
        "    right = (2*K) + 2                              # یافتن ایندکس فرزند سمت راست نود\n",
        "    if left < len(A) and A[left] < A[K]:           #  در صورتی که فرزند سمت چپ وجود داشته باشد و مقدار فرزند از پدر گوچک تر باشد\n",
        "      S = left                                     # مقدار فرزند چپ (کمترین مقدار)را درون متغییر اس بریز\n",
        "    else:                                          # در صرتی که مقدار خود پدر کوچک ترین مقدار بود\n",
        "      S = K                                        # اندیس نود مورد نظر را درون متغییر اس بریز\n",
        "    if right < len(A) and A[right] < A[S] :        # در صورتی که فرزند راست وجود داشته باشد و مقدار فرزند راست از کا کوچک تر باشد\n",
        "      S = right                                    # مقدار اندیس راست را قرار بده (هدف یافتن اندیس کمترین مقدار و قرار دادن آن در متغییر اس هست )\n",
        "    if S != K :                                    # در صورتی که کمترین مقدار نود پدر نبود بدین معناست که آرایه مین هیپ را نمایش نمیدهد\n",
        "      A[K] , A[S] = A[S] , A[K]                    # درنتیجه کمترین مقدار را که درون متغییر اس قرار گرفته را در نود پدر قرار میدهیم\n",
        "      self.heapify(A,S)\n",
        "\n",
        "  def build_min_heap(self,A):                      # در این تابع مقدار اینکس نودهای پدر درخت از پایین به بالا تک تک به درون تابع هیپیفای رفته و مرتب میشوند\n",
        "    n = int((len(A) // 2) - 1)\n",
        "    for K in range(n,-1,-1):\n",
        "      self.heapify(A,K)\n",
        "\n",
        "  def heapify_max(self, A, K):\n",
        "      left = (2 * K) + 1\n",
        "      right = (2 * K) + 2\n",
        "      l = K\n",
        "      if left < len(A) and A[left] > A[K]:\n",
        "         l = left\n",
        "      if right < len(A) and A[right] > A[l]:\n",
        "         l = right\n",
        "      if l != K:\n",
        "         A[K], A[l] = A[l], A[K]\n",
        "         self.heapify_max(A, l)\n",
        "\n",
        "  def build_max_heap(self, A):\n",
        "      n = len(A) // 2 - 1\n",
        "      for k in range(n, -1, -1):\n",
        "        self.heapify_max(A, k)\n",
        "\n",
        "A = [5, 6, 3, 1, 4, 2, 7]\n",
        "hxtree = Htree()\n",
        "hxtree.build_min_heap(A)\n",
        "print('Your min heap tree array = ', A)\n",
        "\n",
        "A2 = [5, 6, 3, 1, 4, 2, 7]\n",
        "hmtree = Htree()\n",
        "hmtree.build_max_heap(A2)\n",
        "print('Your max heap tree array = ', A2)\n",
        "\n"
      ],
      "metadata": {
        "id": "h7q9_U1ETAS5"
      },
      "execution_count": null,
      "outputs": []
    }
  ]
}