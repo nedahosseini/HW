{
  "nbformat": 4,
  "nbformat_minor": 0,
  "metadata": {
    "colab": {
      "provenance": [],
      "authorship_tag": "ABX9TyNmhCsN1blff9MbURoUFc/o",
      "include_colab_link": true
    },
    "kernelspec": {
      "name": "python3",
      "display_name": "Python 3"
    },
    "language_info": {
      "name": "python"
    }
  },
  "cells": [
    {
      "cell_type": "markdown",
      "metadata": {
        "id": "view-in-github",
        "colab_type": "text"
      },
      "source": [
        "<a href=\"https://colab.research.google.com/github/nedahosseini/HW/blob/hw9/Copy_of_hw8.ipynb\" target=\"_parent\"><img src=\"https://colab.research.google.com/assets/colab-badge.svg\" alt=\"Open In Colab\"/></a>"
      ]
    },
    {
      "cell_type": "code",
      "execution_count": null,
      "metadata": {
        "id": "q2_fYAKAg0OH"
      },
      "outputs": [],
      "source": [
        "class Graph:\n",
        "\n",
        "  def __init__(self, n=3):\n",
        "    self.size = n\n",
        "    self. M = []\n",
        "    for _ in range(n):\n",
        "      self.M.append([0 for i in range(n)])\n",
        "\n",
        "  def add_edge(self, v1, v2):\n",
        "    self.M[v1][v2] = 1\n",
        "    self.M[v2][v1] = 1\n",
        "\n",
        "  def display(self):\n",
        "    for i in range(self.size):\n",
        "      for j in range(self.size):\n",
        "        print(self.M[i][j], end = '  ')\n",
        "      print()\n",
        "\n",
        "g = Graph(4)\n",
        "g.add_edge(0,1)\n",
        "g.add_edge(0,2)\n",
        "g.add_edge(1,2)\n",
        "g.add_edge(2,3)\n",
        "g.display()\n",
        "\n",
        "\n"
      ]
    }
  ]
}